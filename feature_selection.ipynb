{
 "cells": [
  {
   "cell_type": "code",
   "execution_count": 8,
   "metadata": {},
   "outputs": [],
   "source": [
    "import joblib\n",
    "import pandas as pd\n",
    "import numpy as np\n",
    "from sklearn.model_selection import train_test_split, GridSearchCV\n",
    "from sklearn.feature_selection import SelectKBest, chi2\n",
    "from sklearn.neighbors import KNeighborsClassifier"
   ]
  },
  {
   "cell_type": "code",
   "execution_count": 9,
   "metadata": {},
   "outputs": [
    {
     "name": "stdout",
     "output_type": "stream",
     "text": [
      "versicolor\n"
     ]
    }
   ],
   "source": [
    "#load encoder\n",
    "encoder = joblib.load('encoder')\n",
    "\n",
    "#load dataset\n",
    "df = pd.read_csv('iris.csv')\n",
    "\n",
    "#encodage, partitionnement\n",
    "df['variety'] = encoder.fit_transform(df['variety'])\n",
    "y = df['variety']\n",
    "X = df.drop('variety', axis=1)\n",
    "\n",
    "#feature selection\n",
    "selector = SelectKBest(chi2, k=2)\n",
    "X_new = selector.fit_transform(X, y)\n",
    "\n",
    "#test_train_split\n",
    "X_train, X_test, y_train, y_test = train_test_split(X_new, y, test_size=0.33, random_state=2)\n",
    "\n",
    "#choix du meilleur hyper-paramètre\n",
    "param_grid = {'n_neighbors': np.arange(1,25), 'metric' : ['euclidean', 'manhattan']}\n",
    "grid = GridSearchCV(KNeighborsClassifier(), param_grid, cv=5)\n",
    "grid.fit(X_train, y_train)\n",
    "\n",
    "#entrainement du modèle\n",
    "knn = grid.best_estimator_\n",
    "knn.fit(X_train, y_train)\n",
    "\n",
    "#prédiction\n",
    "iris = [3,2]\n",
    "especes = {0:'setosa', 1:'versicolor', 2:'virignica'}\n",
    "x = np.array([iris]).reshape(1,2)\n",
    "print(especes[knn.predict(x)[0]])"
   ]
  }
 ],
 "metadata": {
  "kernelspec": {
   "display_name": "Python 3.8.10 ('.venv': venv)",
   "language": "python",
   "name": "python3"
  },
  "language_info": {
   "codemirror_mode": {
    "name": "ipython",
    "version": 3
   },
   "file_extension": ".py",
   "mimetype": "text/x-python",
   "name": "python",
   "nbconvert_exporter": "python",
   "pygments_lexer": "ipython3",
   "version": "3.8.10"
  },
  "orig_nbformat": 4,
  "vscode": {
   "interpreter": {
    "hash": "abdbafcac945b9fb1ac3b18e12e5b7a45b039ad26853e5df23ce40b14a0b0148"
   }
  }
 },
 "nbformat": 4,
 "nbformat_minor": 2
}
